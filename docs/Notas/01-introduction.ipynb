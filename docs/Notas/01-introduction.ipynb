{
 "cells": [
  {
   "cell_type": "markdown",
   "id": "cad8a689",
   "metadata": {},
   "source": [
    "# Introducción"
   ]
  },
  {
   "cell_type": "markdown",
   "id": "78ecc17f",
   "metadata": {},
   "source": [
    "## Sympy\n",
    "\n",
    "SymPy es una librería de Python para matemática simbólica."
   ]
  },
  {
   "cell_type": "code",
   "execution_count": null,
   "id": "f63a1087",
   "metadata": {},
   "outputs": [],
   "source": []
  }
 ],
 "metadata": {
  "kernelspec": {
   "display_name": "PPP virtual venv",
   "language": "python",
   "name": "venv"
  },
  "language_info": {
   "codemirror_mode": {
    "name": "ipython",
    "version": 3
   },
   "file_extension": ".py",
   "mimetype": "text/x-python",
   "name": "python",
   "nbconvert_exporter": "python",
   "pygments_lexer": "ipython3",
   "version": "3.8.5"
  }
 },
 "nbformat": 4,
 "nbformat_minor": 5
}
