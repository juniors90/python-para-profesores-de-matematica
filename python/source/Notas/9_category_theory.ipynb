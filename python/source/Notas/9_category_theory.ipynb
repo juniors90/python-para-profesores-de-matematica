{
 "cells": [
  {
   "cell_type": "markdown",
   "id": "e929b97f",
   "metadata": {},
   "source": [
    "# Teoría de Categorías"
   ]
  },
  {
   "cell_type": "markdown",
   "id": "2c0f158e",
   "metadata": {},
   "source": [
    "El módulo de teoría de categorías es desarrollada por SymPy nos permite diagramas dentro de una sola categoría, incluyendo diagramas hechos en TikZ y decidiendo cuando estos son conmutativos o no.\n",
    "\n",
    "El trabajo de referencia general que este módulo intenta seguir es\n",
    "\n",
    "JoyOfCats\n",
    "\n",
    "Adamek, H. Herrlich. G. E. Strecker: Abstract and Concrete Categories. The Joy of Cats.\n",
    "\n",
    "La última versión de este libro debería estar disponible para su descarga gratuita  [aquí](http://katmat.math.uni-bremen.de/acc/acc.pdfS)"
   ]
  },
  {
   "cell_type": "markdown",
   "id": "3cb42f1e",
   "metadata": {},
   "source": [
    "Coemenzamos importando la librería sympy, de la siguiente manera"
   ]
  },
  {
   "cell_type": "code",
   "execution_count": 1,
   "id": "4b21acbd",
   "metadata": {},
   "outputs": [],
   "source": [
    "from sympy.categories import Object, NamedMorphism"
   ]
  },
  {
   "cell_type": "markdown",
   "id": "c9b913c8",
   "metadata": {},
   "source": [
    "## Objetos\n",
    "\n",
    "Toda categoría $\\mathcal{C}$, está compuesta por una clase de objetos $Ob(\\mathcal{C})$ en una categoría abstracta.\n",
    "\n",
    "La forma recomendada de crear objetos abstractos en categorías abstractas es utilizando la clase `Object`, por ejemplo:"
   ]
  },
  {
   "cell_type": "code",
   "execution_count": 2,
   "id": "981db8d9",
   "metadata": {},
   "outputs": [],
   "source": [
    "# Inicializamos los símbolos que deseamos usar\n",
    "\n",
    "A=Object(\"A\")\n",
    "B=Object(\"B\")\n",
    "C=Object(\"C\")"
   ]
  },
  {
   "cell_type": "code",
   "execution_count": 3,
   "id": "de77f531",
   "metadata": {},
   "outputs": [
    {
     "data": {
      "text/plain": [
       "sympy.categories.baseclasses.Object"
      ]
     },
     "execution_count": 3,
     "metadata": {},
     "output_type": "execute_result"
    }
   ],
   "source": [
    "type(A)"
   ]
  },
  {
   "cell_type": "markdown",
   "id": "300525ea",
   "metadata": {},
   "source": [
    "## Morfismos, Dominios y Codominios."
   ]
  },
  {
   "cell_type": "markdown",
   "id": "736d8c40",
   "metadata": {},
   "source": [
    "Veamos cómo utilizar este módulo en la notebook"
   ]
  },
  {
   "cell_type": "code",
   "execution_count": 4,
   "id": "a373d357",
   "metadata": {},
   "outputs": [],
   "source": [
    "# Definimos la simbología que vamos a utilizar\n",
    "\n",
    "f=NamedMorphism(A, B, \"f\")\n",
    "g=NamedMorphism(B, C, \"g\")"
   ]
  },
  {
   "cell_type": "code",
   "execution_count": 5,
   "id": "e8c9b1b6",
   "metadata": {},
   "outputs": [
    {
     "data": {
      "text/plain": [
       "sympy.categories.baseclasses.NamedMorphism"
      ]
     },
     "execution_count": 5,
     "metadata": {},
     "output_type": "execute_result"
    }
   ],
   "source": [
    "type(f)"
   ]
  },
  {
   "cell_type": "code",
   "execution_count": 6,
   "id": "43c20c30",
   "metadata": {},
   "outputs": [
    {
     "data": {
      "text/latex": [
       "$\\displaystyle A$"
      ],
      "text/plain": [
       "Object(\"A\")"
      ]
     },
     "execution_count": 6,
     "metadata": {},
     "output_type": "execute_result"
    }
   ],
   "source": [
    "A"
   ]
  },
  {
   "cell_type": "code",
   "execution_count": 7,
   "id": "32d7cd99",
   "metadata": {},
   "outputs": [
    {
     "data": {
      "text/latex": [
       "$\\displaystyle B$"
      ],
      "text/plain": [
       "Object(\"B\")"
      ]
     },
     "execution_count": 7,
     "metadata": {},
     "output_type": "execute_result"
    }
   ],
   "source": [
    "B"
   ]
  },
  {
   "cell_type": "code",
   "execution_count": 8,
   "id": "c3776fc0",
   "metadata": {},
   "outputs": [
    {
     "data": {
      "text/latex": [
       "$\\displaystyle f:A\\rightarrow B$"
      ],
      "text/plain": [
       "NamedMorphism(Object(\"A\"), Object(\"B\"), \"f\")"
      ]
     },
     "execution_count": 8,
     "metadata": {},
     "output_type": "execute_result"
    }
   ],
   "source": [
    "f"
   ]
  },
  {
   "cell_type": "code",
   "execution_count": 9,
   "id": "d6828768",
   "metadata": {},
   "outputs": [
    {
     "data": {
      "text/latex": [
       "$\\displaystyle B$"
      ],
      "text/plain": [
       "Object(\"B\")"
      ]
     },
     "execution_count": 9,
     "metadata": {},
     "output_type": "execute_result"
    }
   ],
   "source": [
    "f.codomain"
   ]
  },
  {
   "cell_type": "code",
   "execution_count": 10,
   "id": "5d37f8fb",
   "metadata": {},
   "outputs": [
    {
     "data": {
      "text/latex": [
       "$\\displaystyle A$"
      ],
      "text/plain": [
       "Object(\"A\")"
      ]
     },
     "execution_count": 10,
     "metadata": {},
     "output_type": "execute_result"
    }
   ],
   "source": [
    "f.domain"
   ]
  },
  {
   "cell_type": "markdown",
   "id": "93b43c0d",
   "metadata": {},
   "source": [
    "La propiedad `name` devuelve el nombre del morfismo."
   ]
  },
  {
   "cell_type": "code",
   "execution_count": 11,
   "id": "3b8e53d6",
   "metadata": {},
   "outputs": [
    {
     "data": {
      "text/plain": [
       "'f'"
      ]
     },
     "execution_count": 11,
     "metadata": {},
     "output_type": "execute_result"
    }
   ],
   "source": [
    "f.name"
   ]
  },
  {
   "cell_type": "markdown",
   "id": "f6f50855",
   "metadata": {},
   "source": [
    "## Composición de funciones"
   ]
  },
  {
   "cell_type": "markdown",
   "id": "6ac389ac",
   "metadata": {},
   "source": [
    "Se autocompone con el morfismo proporcionado.\n",
    "\n",
    "El orden de los elementos en la composición es el orden habitual, es decir, para construir $g\\circ f$ use `g.compose(f)`"
   ]
  },
  {
   "cell_type": "code",
   "execution_count": 12,
   "id": "00d2125a",
   "metadata": {},
   "outputs": [
    {
     "data": {
      "text/latex": [
       "$\\displaystyle g\\circ f:A\\rightarrow C$"
      ],
      "text/plain": [
       "CompositeMorphism((NamedMorphism(Object(\"A\"), Object(\"B\"), \"f\"), NamedMorphism(Object(\"B\"), Object(\"C\"), \"g\")))"
      ]
     },
     "execution_count": 12,
     "metadata": {},
     "output_type": "execute_result"
    }
   ],
   "source": [
    "g.compose(f)"
   ]
  },
  {
   "cell_type": "markdown",
   "id": "0591c27a",
   "metadata": {},
   "source": [
    "### El operador *"
   ]
  },
  {
   "cell_type": "markdown",
   "id": "4e5d6f35",
   "metadata": {},
   "source": [
    "Para componer funciones utilizamos el operador `*` "
   ]
  },
  {
   "cell_type": "code",
   "execution_count": 13,
   "id": "55d73dc1",
   "metadata": {},
   "outputs": [
    {
     "data": {
      "text/latex": [
       "$\\displaystyle g\\circ f:A\\rightarrow C$"
      ],
      "text/plain": [
       "CompositeMorphism((NamedMorphism(Object(\"A\"), Object(\"B\"), \"f\"), NamedMorphism(Object(\"B\"), Object(\"C\"), \"g\")))"
      ]
     },
     "execution_count": 13,
     "metadata": {},
     "output_type": "execute_result"
    }
   ],
   "source": [
    "g*f"
   ]
  },
  {
   "cell_type": "code",
   "execution_count": 14,
   "id": "8f909b69",
   "metadata": {},
   "outputs": [
    {
     "data": {
      "text/latex": [
       "$\\displaystyle A$"
      ],
      "text/plain": [
       "Object(\"A\")"
      ]
     },
     "execution_count": 14,
     "metadata": {},
     "output_type": "execute_result"
    }
   ],
   "source": [
    "(g*f).domain"
   ]
  },
  {
   "cell_type": "code",
   "execution_count": 15,
   "id": "9cdf5f85",
   "metadata": {},
   "outputs": [
    {
     "data": {
      "text/latex": [
       "$\\displaystyle C$"
      ],
      "text/plain": [
       "Object(\"C\")"
      ]
     },
     "execution_count": 15,
     "metadata": {},
     "output_type": "execute_result"
    }
   ],
   "source": [
    "(g*f).codomain"
   ]
  },
  {
   "cell_type": "code",
   "execution_count": 16,
   "id": "69e09365",
   "metadata": {},
   "outputs": [
    {
     "data": {
      "text/latex": [
       "$\\displaystyle \\left( f:A\\rightarrow B, \\  g:B\\rightarrow C\\right)$"
      ],
      "text/plain": [
       "(NamedMorphism(Object(\"A\"), Object(\"B\"), \"f\"), NamedMorphism(Object(\"B\"), Object(\"C\"), \"g\"))"
      ]
     },
     "execution_count": 16,
     "metadata": {},
     "output_type": "execute_result"
    }
   ],
   "source": [
    "(g*f).components"
   ]
  },
  {
   "cell_type": "markdown",
   "id": "368cd40d",
   "metadata": {},
   "source": [
    "Si hacemos `f.compose(g)`, nos devuelve un error de comptibilidad con respecto a la composición"
   ]
  },
  {
   "cell_type": "markdown",
   "id": "6b136e4c",
   "metadata": {},
   "source": [
    "### Otra forma de componer funciones\n",
    "\n",
    "La función `CompositeMorphism` representa un morfismo como una composición de otros morfismos."
   ]
  },
  {
   "cell_type": "markdown",
   "id": "d89346d6",
   "metadata": {},
   "source": [
    "Dos morfismos compuestos son iguales si los morfismos de los que se obtuvieron (componentes) son los mismos y se enumeraron en el mismo orden.\n",
    "\n",
    "Los argumentos del constructor para esta clase deben enumerarse en el orden del diagrama:\n",
    "\n",
    "* para obtener la composición $g\\circ f$ de las instancias de `Morphism` `g` y `f` usamos `CompositeMorphism(f, g)`."
   ]
  },
  {
   "cell_type": "code",
   "execution_count": 17,
   "id": "69fefa98",
   "metadata": {},
   "outputs": [],
   "source": [
    "from sympy.categories import CompositeMorphism"
   ]
  },
  {
   "cell_type": "code",
   "execution_count": 18,
   "id": "3f591008",
   "metadata": {},
   "outputs": [
    {
     "data": {
      "text/latex": [
       "$\\displaystyle g\\circ f:A\\rightarrow C$"
      ],
      "text/plain": [
       "CompositeMorphism((NamedMorphism(Object(\"A\"), Object(\"B\"), \"f\"), NamedMorphism(Object(\"B\"), Object(\"C\"), \"g\")))"
      ]
     },
     "execution_count": 18,
     "metadata": {},
     "output_type": "execute_result"
    }
   ],
   "source": [
    "CompositeMorphism(f,g)"
   ]
  },
  {
   "cell_type": "code",
   "execution_count": 19,
   "id": "a683d578",
   "metadata": {},
   "outputs": [
    {
     "data": {
      "text/plain": [
       "True"
      ]
     },
     "execution_count": 19,
     "metadata": {},
     "output_type": "execute_result"
    }
   ],
   "source": [
    "CompositeMorphism(f,g) == g.compose(f) "
   ]
  },
  {
   "cell_type": "code",
   "execution_count": 20,
   "id": "029f5c97",
   "metadata": {},
   "outputs": [
    {
     "data": {
      "text/plain": [
       "True"
      ]
     },
     "execution_count": 20,
     "metadata": {},
     "output_type": "execute_result"
    }
   ],
   "source": [
    "CompositeMorphism(f,g) == g*f"
   ]
  },
  {
   "cell_type": "markdown",
   "id": "a7b13892",
   "metadata": {},
   "source": [
    "Para otorgar un nuevo nombre a la estructura compuesta de estos morfismos, es decir $h=g\\circ f$, utilizamos"
   ]
  },
  {
   "cell_type": "code",
   "execution_count": 21,
   "id": "47e3151f",
   "metadata": {},
   "outputs": [
    {
     "data": {
      "text/latex": [
       "$\\displaystyle h:A\\rightarrow C$"
      ],
      "text/plain": [
       "NamedMorphism(Object(\"A\"), Object(\"C\"), \"h\")"
      ]
     },
     "execution_count": 21,
     "metadata": {},
     "output_type": "execute_result"
    }
   ],
   "source": [
    "(g*f).flatten(\"h\")"
   ]
  },
  {
   "cell_type": "code",
   "execution_count": 22,
   "id": "3bf7343b",
   "metadata": {},
   "outputs": [
    {
     "data": {
      "text/latex": [
       "$\\displaystyle A$"
      ],
      "text/plain": [
       "Object(\"A\")"
      ]
     },
     "execution_count": 22,
     "metadata": {},
     "output_type": "execute_result"
    }
   ],
   "source": [
    "(g*f).flatten(\"h\").domain"
   ]
  },
  {
   "cell_type": "code",
   "execution_count": 23,
   "id": "4c73ed35",
   "metadata": {},
   "outputs": [
    {
     "data": {
      "text/latex": [
       "$\\displaystyle C$"
      ],
      "text/plain": [
       "Object(\"C\")"
      ]
     },
     "execution_count": 23,
     "metadata": {},
     "output_type": "execute_result"
    }
   ],
   "source": [
    "(g*f).flatten(\"h\").codomain"
   ]
  },
  {
   "cell_type": "code",
   "execution_count": 24,
   "id": "93782e01",
   "metadata": {},
   "outputs": [],
   "source": [
    "h_1=(g*f).flatten(\"h\")"
   ]
  },
  {
   "cell_type": "code",
   "execution_count": 25,
   "id": "aae12dda",
   "metadata": {},
   "outputs": [
    {
     "data": {
      "text/latex": [
       "$\\displaystyle h:A\\rightarrow C$"
      ],
      "text/plain": [
       "NamedMorphism(Object(\"A\"), Object(\"C\"), \"h\")"
      ]
     },
     "execution_count": 25,
     "metadata": {},
     "output_type": "execute_result"
    }
   ],
   "source": [
    "h_1"
   ]
  },
  {
   "cell_type": "code",
   "execution_count": 26,
   "id": "2fb0614e",
   "metadata": {},
   "outputs": [
    {
     "ename": "AttributeError",
     "evalue": "'NamedMorphism' object has no attribute 'components'",
     "output_type": "error",
     "traceback": [
      "\u001b[1;31m---------------------------------------------------------------------------\u001b[0m",
      "\u001b[1;31mAttributeError\u001b[0m                            Traceback (most recent call last)",
      "\u001b[1;32m<ipython-input-26-95a7a639a8a1>\u001b[0m in \u001b[0;36m<module>\u001b[1;34m\u001b[0m\n\u001b[1;32m----> 1\u001b[1;33m \u001b[0mh_1\u001b[0m\u001b[1;33m.\u001b[0m\u001b[0mcomponents\u001b[0m\u001b[1;33m\u001b[0m\u001b[1;33m\u001b[0m\u001b[0m\n\u001b[0m",
      "\u001b[1;31mAttributeError\u001b[0m: 'NamedMorphism' object has no attribute 'components'"
     ]
    }
   ],
   "source": [
    "h_1.components"
   ]
  },
  {
   "cell_type": "markdown",
   "id": "a1fec092",
   "metadata": {},
   "source": [
    "## Errores y Excepciones"
   ]
  },
  {
   "cell_type": "code",
   "execution_count": 27,
   "id": "3e5bf916",
   "metadata": {},
   "outputs": [
    {
     "ename": "ValueError",
     "evalue": "Uncomposable morphisms.",
     "output_type": "error",
     "traceback": [
      "\u001b[1;31m---------------------------------------------------------------------------\u001b[0m",
      "\u001b[1;31mValueError\u001b[0m                                Traceback (most recent call last)",
      "\u001b[1;32m<ipython-input-27-efe8c4522bcf>\u001b[0m in \u001b[0;36m<module>\u001b[1;34m\u001b[0m\n\u001b[1;32m----> 1\u001b[1;33m \u001b[0mf\u001b[0m\u001b[1;33m.\u001b[0m\u001b[0mcompose\u001b[0m\u001b[1;33m(\u001b[0m\u001b[0mg\u001b[0m\u001b[1;33m)\u001b[0m\u001b[1;33m\u001b[0m\u001b[1;33m\u001b[0m\u001b[0m\n\u001b[0m",
      "\u001b[1;32mD:\\Documents\\python\\sphinx\\python para profesores\\venv\\lib\\site-packages\\sympy\\categories\\baseclasses.py\u001b[0m in \u001b[0;36mcompose\u001b[1;34m(self, other)\u001b[0m\n\u001b[0;32m    126\u001b[0m \u001b[1;33m\u001b[0m\u001b[0m\n\u001b[0;32m    127\u001b[0m         \"\"\"\n\u001b[1;32m--> 128\u001b[1;33m         \u001b[1;32mreturn\u001b[0m \u001b[0mCompositeMorphism\u001b[0m\u001b[1;33m(\u001b[0m\u001b[0mother\u001b[0m\u001b[1;33m,\u001b[0m \u001b[0mself\u001b[0m\u001b[1;33m)\u001b[0m\u001b[1;33m\u001b[0m\u001b[1;33m\u001b[0m\u001b[0m\n\u001b[0m\u001b[0;32m    129\u001b[0m \u001b[1;33m\u001b[0m\u001b[0m\n\u001b[0;32m    130\u001b[0m     \u001b[1;32mdef\u001b[0m \u001b[0m__mul__\u001b[0m\u001b[1;33m(\u001b[0m\u001b[0mself\u001b[0m\u001b[1;33m,\u001b[0m \u001b[0mother\u001b[0m\u001b[1;33m)\u001b[0m\u001b[1;33m:\u001b[0m\u001b[1;33m\u001b[0m\u001b[1;33m\u001b[0m\u001b[0m\n",
      "\u001b[1;32mD:\\Documents\\python\\sphinx\\python para profesores\\venv\\lib\\site-packages\\sympy\\categories\\baseclasses.py\u001b[0m in \u001b[0;36m__new__\u001b[1;34m(cls, *components)\u001b[0m\n\u001b[0;32m    307\u001b[0m \u001b[1;33m\u001b[0m\u001b[0m\n\u001b[0;32m    308\u001b[0m             \u001b[1;32mif\u001b[0m \u001b[0mcurrent\u001b[0m\u001b[1;33m.\u001b[0m\u001b[0mcodomain\u001b[0m \u001b[1;33m!=\u001b[0m \u001b[0mfollowing\u001b[0m\u001b[1;33m.\u001b[0m\u001b[0mdomain\u001b[0m\u001b[1;33m:\u001b[0m\u001b[1;33m\u001b[0m\u001b[1;33m\u001b[0m\u001b[0m\n\u001b[1;32m--> 309\u001b[1;33m                 \u001b[1;32mraise\u001b[0m \u001b[0mValueError\u001b[0m\u001b[1;33m(\u001b[0m\u001b[1;34m\"Uncomposable morphisms.\"\u001b[0m\u001b[1;33m)\u001b[0m\u001b[1;33m\u001b[0m\u001b[1;33m\u001b[0m\u001b[0m\n\u001b[0m\u001b[0;32m    310\u001b[0m \u001b[1;33m\u001b[0m\u001b[0m\n\u001b[0;32m    311\u001b[0m             normalised_components = CompositeMorphism._add_morphism(\n",
      "\u001b[1;31mValueError\u001b[0m: Uncomposable morphisms."
     ]
    }
   ],
   "source": [
    "f.compose(g)"
   ]
  },
  {
   "cell_type": "code",
   "execution_count": 28,
   "id": "6689c278",
   "metadata": {},
   "outputs": [
    {
     "ename": "AttributeError",
     "evalue": "'CompositeMorphism' object has no attribute 'name'",
     "output_type": "error",
     "traceback": [
      "\u001b[1;31m---------------------------------------------------------------------------\u001b[0m",
      "\u001b[1;31mAttributeError\u001b[0m                            Traceback (most recent call last)",
      "\u001b[1;32m<ipython-input-28-eda470189674>\u001b[0m in \u001b[0;36m<module>\u001b[1;34m\u001b[0m\n\u001b[1;32m----> 1\u001b[1;33m \u001b[1;33m(\u001b[0m\u001b[0mg\u001b[0m\u001b[1;33m*\u001b[0m\u001b[0mf\u001b[0m\u001b[1;33m)\u001b[0m\u001b[1;33m.\u001b[0m\u001b[0mname\u001b[0m\u001b[1;33m\u001b[0m\u001b[1;33m\u001b[0m\u001b[0m\n\u001b[0m",
      "\u001b[1;31mAttributeError\u001b[0m: 'CompositeMorphism' object has no attribute 'name'"
     ]
    }
   ],
   "source": [
    "(g*f).name"
   ]
  },
  {
   "cell_type": "markdown",
   "id": "34d6bbc9",
   "metadata": {},
   "source": [
    "## Morfismo Identidad "
   ]
  },
  {
   "cell_type": "markdown",
   "id": "d4785270",
   "metadata": {},
   "source": [
    "Para definir el morfismo identidad debemos `IdentityMorphism(domain)`, que representa un morfismo idendidad de $\\texttt{domain}\\to \\texttt{domain}$. Por ejemplo:"
   ]
  },
  {
   "cell_type": "code",
   "execution_count": 29,
   "id": "74d04e76",
   "metadata": {},
   "outputs": [],
   "source": [
    "from sympy.categories import IdentityMorphism\n",
    "\n",
    "id_A=IdentityMorphism(A)"
   ]
  },
  {
   "cell_type": "code",
   "execution_count": 30,
   "id": "0b841958",
   "metadata": {},
   "outputs": [
    {
     "data": {
      "text/latex": [
       "$\\displaystyle id:A\\rightarrow A$"
      ],
      "text/plain": [
       "IdentityMorphism(Object(\"A\"))"
      ]
     },
     "execution_count": 30,
     "metadata": {},
     "output_type": "execute_result"
    }
   ],
   "source": [
    "id_A"
   ]
  },
  {
   "cell_type": "code",
   "execution_count": 31,
   "id": "68c49afe",
   "metadata": {},
   "outputs": [],
   "source": [
    "id_B=IdentityMorphism(B)"
   ]
  },
  {
   "cell_type": "code",
   "execution_count": 32,
   "id": "75eab9c4",
   "metadata": {},
   "outputs": [
    {
     "data": {
      "text/latex": [
       "$\\displaystyle id:B\\rightarrow B$"
      ],
      "text/plain": [
       "IdentityMorphism(Object(\"B\"))"
      ]
     },
     "execution_count": 32,
     "metadata": {},
     "output_type": "execute_result"
    }
   ],
   "source": [
    "id_B"
   ]
  },
  {
   "cell_type": "code",
   "execution_count": 33,
   "id": "a54ae52d",
   "metadata": {},
   "outputs": [
    {
     "data": {
      "text/latex": [
       "$\\displaystyle f:A\\rightarrow B$"
      ],
      "text/plain": [
       "NamedMorphism(Object(\"A\"), Object(\"B\"), \"f\")"
      ]
     },
     "execution_count": 33,
     "metadata": {},
     "output_type": "execute_result"
    }
   ],
   "source": [
    "f*id_A"
   ]
  },
  {
   "cell_type": "code",
   "execution_count": 34,
   "id": "2ba625d2",
   "metadata": {},
   "outputs": [
    {
     "data": {
      "text/latex": [
       "$\\displaystyle f:A\\rightarrow B$"
      ],
      "text/plain": [
       "NamedMorphism(Object(\"A\"), Object(\"B\"), \"f\")"
      ]
     },
     "execution_count": 34,
     "metadata": {},
     "output_type": "execute_result"
    }
   ],
   "source": [
    "id_B*f"
   ]
  },
  {
   "cell_type": "code",
   "execution_count": 35,
   "id": "c596afd5",
   "metadata": {},
   "outputs": [
    {
     "data": {
      "text/plain": [
       "True"
      ]
     },
     "execution_count": 35,
     "metadata": {},
     "output_type": "execute_result"
    }
   ],
   "source": [
    "f*id_A == id_B*f"
   ]
  },
  {
   "cell_type": "markdown",
   "id": "e72351a2",
   "metadata": {},
   "source": [
    "## Categorías"
   ]
  },
  {
   "cell_type": "code",
   "execution_count": 36,
   "id": "9223190b",
   "metadata": {},
   "outputs": [],
   "source": [
    "from sympy.categories import Category, Diagram "
   ]
  },
  {
   "cell_type": "code",
   "execution_count": 37,
   "id": "85fdf23e",
   "metadata": {},
   "outputs": [],
   "source": [
    "list = [f, g]"
   ]
  },
  {
   "cell_type": "code",
   "execution_count": 38,
   "id": "d61ba0eb",
   "metadata": {},
   "outputs": [],
   "source": [
    "d=Diagram(list)"
   ]
  },
  {
   "cell_type": "code",
   "execution_count": 39,
   "id": "9bdddc04",
   "metadata": {},
   "outputs": [
    {
     "data": {
      "text/latex": [
       "$\\displaystyle \\left\\{ g\\circ f:A\\rightarrow C : \\emptyset, \\  id:A\\rightarrow A : \\emptyset, \\  id:B\\rightarrow B : \\emptyset, \\  id:C\\rightarrow C : \\emptyset, \\  f:A\\rightarrow B : \\emptyset, \\  g:B\\rightarrow C : \\emptyset\\right\\}$"
      ],
      "text/plain": [
       "Diagram({CompositeMorphism((NamedMorphism(Object(\"A\"), Object(\"B\"), \"f\"), NamedMorphism(Object(\"B\"), Object(\"C\"), \"g\"))): EmptySet, IdentityMorphism(Object(\"A\")): EmptySet, IdentityMorphism(Object(\"B\")): EmptySet, IdentityMorphism(Object(\"C\")): EmptySet, NamedMorphism(Object(\"A\"), Object(\"B\"), \"f\"): EmptySet, NamedMorphism(Object(\"B\"), Object(\"C\"), \"g\"): EmptySet}, {}, FiniteSet(Object(\"A\"), Object(\"B\"), Object(\"C\")))"
      ]
     },
     "execution_count": 39,
     "metadata": {},
     "output_type": "execute_result"
    }
   ],
   "source": [
    "d"
   ]
  },
  {
   "cell_type": "code",
   "execution_count": 40,
   "id": "c873d49e",
   "metadata": {},
   "outputs": [],
   "source": [
    "K = Category(\"K\", commutative_diagrams=[d])"
   ]
  },
  {
   "cell_type": "code",
   "execution_count": 41,
   "id": "b8cb7359",
   "metadata": {},
   "outputs": [
    {
     "data": {
      "text/latex": [
       "$\\displaystyle \\mathbf{K}$"
      ],
      "text/plain": [
       "Category(\"K\")"
      ]
     },
     "execution_count": 41,
     "metadata": {},
     "output_type": "execute_result"
    }
   ],
   "source": [
    "K"
   ]
  },
  {
   "cell_type": "code",
   "execution_count": 42,
   "id": "45acf241",
   "metadata": {},
   "outputs": [
    {
     "data": {
      "text/latex": [
       "$\\displaystyle \\left\\{\\left\\{ g\\circ f:A\\rightarrow C : \\emptyset, \\  id:A\\rightarrow A : \\emptyset, \\  id:B\\rightarrow B : \\emptyset, \\  id:C\\rightarrow C : \\emptyset, \\  f:A\\rightarrow B : \\emptyset, \\  g:B\\rightarrow C : \\emptyset\\right\\}\\right\\}$"
      ],
      "text/plain": [
       "FiniteSet(Diagram({CompositeMorphism((NamedMorphism(Object(\"A\"), Object(\"B\"), \"f\"), NamedMorphism(Object(\"B\"), Object(\"C\"), \"g\"))): EmptySet, IdentityMorphism(Object(\"A\")): EmptySet, IdentityMorphism(Object(\"B\")): EmptySet, IdentityMorphism(Object(\"C\")): EmptySet, NamedMorphism(Object(\"A\"), Object(\"B\"), \"f\"): EmptySet, NamedMorphism(Object(\"B\"), Object(\"C\"), \"g\"): EmptySet}, {}, FiniteSet(Object(\"A\"), Object(\"B\"), Object(\"C\"))))"
      ]
     },
     "execution_count": 42,
     "metadata": {},
     "output_type": "execute_result"
    }
   ],
   "source": [
    "K.commutative_diagrams"
   ]
  },
  {
   "cell_type": "code",
   "execution_count": 43,
   "id": "0a616793",
   "metadata": {},
   "outputs": [],
   "source": [
    "from sympy import FiniteSet"
   ]
  },
  {
   "cell_type": "code",
   "execution_count": 44,
   "id": "86bb4ce5",
   "metadata": {},
   "outputs": [
    {
     "data": {
      "text/latex": [
       "$\\displaystyle \\left\\{\\left\\{ g\\circ f:A\\rightarrow C : \\emptyset, \\  id:A\\rightarrow A : \\emptyset, \\  id:B\\rightarrow B : \\emptyset, \\  id:C\\rightarrow C : \\emptyset, \\  f:A\\rightarrow B : \\emptyset, \\  g:B\\rightarrow C : \\emptyset\\right\\}\\right\\}$"
      ],
      "text/plain": [
       "FiniteSet(Diagram({CompositeMorphism((NamedMorphism(Object(\"A\"), Object(\"B\"), \"f\"), NamedMorphism(Object(\"B\"), Object(\"C\"), \"g\"))): EmptySet, IdentityMorphism(Object(\"A\")): EmptySet, IdentityMorphism(Object(\"B\")): EmptySet, IdentityMorphism(Object(\"C\")): EmptySet, NamedMorphism(Object(\"A\"), Object(\"B\"), \"f\"): EmptySet, NamedMorphism(Object(\"B\"), Object(\"C\"), \"g\"): EmptySet}, {}, FiniteSet(Object(\"A\"), Object(\"B\"), Object(\"C\"))))"
      ]
     },
     "execution_count": 44,
     "metadata": {},
     "output_type": "execute_result"
    }
   ],
   "source": [
    "FiniteSet(d)"
   ]
  },
  {
   "cell_type": "code",
   "execution_count": 45,
   "id": "df2ab6d7",
   "metadata": {},
   "outputs": [
    {
     "data": {
      "text/plain": [
       "True"
      ]
     },
     "execution_count": 45,
     "metadata": {},
     "output_type": "execute_result"
    }
   ],
   "source": [
    "FiniteSet(d) == K.commutative_diagrams"
   ]
  },
  {
   "cell_type": "code",
   "execution_count": 46,
   "id": "b1767867",
   "metadata": {},
   "outputs": [
    {
     "data": {
      "text/plain": [
       "'K'"
      ]
     },
     "execution_count": 46,
     "metadata": {},
     "output_type": "execute_result"
    }
   ],
   "source": [
    "K.name"
   ]
  },
  {
   "cell_type": "code",
   "execution_count": 47,
   "id": "6e480beb",
   "metadata": {},
   "outputs": [
    {
     "data": {
      "text/latex": [
       "$\\displaystyle Class\\left(\\emptyset\\right)$"
      ],
      "text/plain": [
       "Class(EmptySet)"
      ]
     },
     "execution_count": 47,
     "metadata": {},
     "output_type": "execute_result"
    }
   ],
   "source": [
    "K.objects"
   ]
  },
  {
   "cell_type": "markdown",
   "id": "7e86de19",
   "metadata": {},
   "source": [
    "### la propiedad objects\n",
    "\n",
    "La propiedad `objects` devuelve un conjunto finito del tipo `FiniteSet` de objetos que conforman el diagrama."
   ]
  },
  {
   "cell_type": "code",
   "execution_count": 55,
   "id": "98db03bc",
   "metadata": {},
   "outputs": [
    {
     "data": {
      "text/latex": [
       "$\\displaystyle \\left\\{A, B, C\\right\\}$"
      ],
      "text/plain": [
       "FiniteSet(Object(\"A\"), Object(\"B\"), Object(\"C\"))"
      ]
     },
     "execution_count": 55,
     "metadata": {},
     "output_type": "execute_result"
    }
   ],
   "source": [
    "d.objects"
   ]
  },
  {
   "cell_type": "markdown",
   "id": "76ba1cee",
   "metadata": {},
   "source": [
    "### la propiedad premises\n",
    "\n",
    "la propiedad premises devuelve las premises del diagrama."
   ]
  },
  {
   "cell_type": "code",
   "execution_count": 56,
   "id": "fe7fece7",
   "metadata": {},
   "outputs": [
    {
     "name": "stdout",
     "output_type": "stream",
     "text": [
      "{id:A-->A: EmptySet, id:B-->B: EmptySet, f:A-->B: EmptySet}\n"
     ]
    }
   ],
   "source": [
    "from sympy import pretty\n",
    "d = Diagram([f])\n",
    "print(pretty(d.premises, use_unicode=False))"
   ]
  },
  {
   "cell_type": "markdown",
   "id": "5c165482",
   "metadata": {},
   "source": [
    "## Dibujar Diagramas"
   ]
  },
  {
   "cell_type": "code",
   "execution_count": 57,
   "id": "d555a19d",
   "metadata": {},
   "outputs": [],
   "source": [
    "from sympy.categories import Object, NamedMorphism\n",
    "from sympy.categories import Diagram, DiagramGrid\n",
    "from sympy import pprint\n",
    "A = Object(\"A\")\n",
    "B = Object(\"B\")\n",
    "C = Object(\"C\")\n",
    "f = NamedMorphism(A, B, \"f\")\n",
    "g = NamedMorphism(B, C, \"g\")\n",
    "diagram = Diagram([f, g])"
   ]
  },
  {
   "cell_type": "code",
   "execution_count": 62,
   "id": "e58fd6c5",
   "metadata": {},
   "outputs": [
    {
     "data": {
      "text/plain": [
       "(2, 2)"
      ]
     },
     "execution_count": 62,
     "metadata": {},
     "output_type": "execute_result"
    }
   ],
   "source": [
    "grid = DiagramGrid(diagram)\n",
    "(grid.width, grid.height)"
   ]
  },
  {
   "cell_type": "code",
   "execution_count": 63,
   "id": "1dde3d04",
   "metadata": {},
   "outputs": [
    {
     "name": "stdout",
     "output_type": "stream",
     "text": [
      "A  B\n",
      "    \n",
      "   C\n"
     ]
    }
   ],
   "source": [
    "pprint(grid)"
   ]
  },
  {
   "cell_type": "code",
   "execution_count": 64,
   "id": "05554b12",
   "metadata": {},
   "outputs": [
    {
     "name": "stdout",
     "output_type": "stream",
     "text": [
      "\\ar[dr]_{f}\n"
     ]
    }
   ],
   "source": [
    "from sympy.categories.diagram_drawing import ArrowStringDescription\n",
    "astr = ArrowStringDescription(\n",
    "unit=\"mm\", curving=None, curving_amount=None,\n",
    "looping_start=None, looping_end=None, horizontal_direction=\"d\",\n",
    "vertical_direction=\"r\", label_position=\"_\", label=\"f\")\n",
    "print(str(astr))"
   ]
  },
  {
   "cell_type": "code",
   "execution_count": null,
   "id": "10325102",
   "metadata": {},
   "outputs": [],
   "source": []
  }
 ],
 "metadata": {
  "kernelspec": {
   "display_name": "PPP virtual venv",
   "language": "python",
   "name": "venv"
  },
  "language_info": {
   "codemirror_mode": {
    "name": "ipython",
    "version": 3
   },
   "file_extension": ".py",
   "mimetype": "text/x-python",
   "name": "python",
   "nbconvert_exporter": "python",
   "pygments_lexer": "ipython3",
   "version": "3.8.5"
  }
 },
 "nbformat": 4,
 "nbformat_minor": 5
}
