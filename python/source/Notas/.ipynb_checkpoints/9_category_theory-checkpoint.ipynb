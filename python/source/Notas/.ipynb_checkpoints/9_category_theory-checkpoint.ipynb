{
 "cells": [
  {
   "cell_type": "markdown",
   "id": "4b4df5ee",
   "metadata": {},
   "source": [
    "# Teoría de Categorías"
   ]
  },
  {
   "cell_type": "markdown",
   "id": "159b1492",
   "metadata": {},
   "source": [
    "El módulo de teoría de categorías es desarrollada por SymPy nos permite diagramas dentro de una sola categoría, incluyendo diagramas hechos en TikZ y decidiendo cuando estos son conmutativos o no.\n",
    "\n",
    "El trabajo de referencia general que este módulo intenta seguir es\n",
    "\n",
    "JoyOfCats\n",
    "\n",
    "Adamek, H. Herrlich. G. E. Strecker: Abstract and Concrete Categories. The Joy of Cats.\n",
    "\n",
    "La última versión de este libro debería estar disponible para su descarga gratuita  [aquí](http://katmat.math.uni-bremen.de/acc/acc.pdfS)"
   ]
  },
  {
   "cell_type": "markdown",
   "id": "5ca354b2",
   "metadata": {},
   "source": [
    "Coemenzamos importando la librería sympy, de la siguiente manera"
   ]
  },
  {
   "cell_type": "code",
   "execution_count": 1,
   "id": "073cd7f8",
   "metadata": {},
   "outputs": [],
   "source": [
    "from sympy.categories import Object, NamedMorphism"
   ]
  },
  {
   "cell_type": "markdown",
   "id": "5a7aa093",
   "metadata": {},
   "source": [
    "## Objetos\n",
    "\n",
    "Toda categoría $\\mathcal{C}$, está compuesta por una clase de objetos $Ob(\\mathcal{C})$ en una categoría abstracta.\n",
    "\n",
    "La forma recomendada de crear objetos abstractos en categorías abstractas es utilizando la clase `Object`, por ejemplo:"
   ]
  },
  {
   "cell_type": "code",
   "execution_count": 2,
   "id": "212f35de",
   "metadata": {},
   "outputs": [],
   "source": [
    "# Inicializamos los símbolos que deseamos usar\n",
    "\n",
    "A=Object(\"A\")\n",
    "B=Object(\"B\")\n",
    "C=Object(\"C\")"
   ]
  },
  {
   "cell_type": "code",
   "execution_count": 3,
   "id": "1d24170e",
   "metadata": {},
   "outputs": [
    {
     "data": {
      "text/plain": [
       "sympy.categories.baseclasses.Object"
      ]
     },
     "execution_count": 3,
     "metadata": {},
     "output_type": "execute_result"
    }
   ],
   "source": [
    "type(A)"
   ]
  },
  {
   "cell_type": "markdown",
   "id": "982a3613",
   "metadata": {},
   "source": [
    "## Morfismos, Dominios y Codominios."
   ]
  },
  {
   "cell_type": "markdown",
   "id": "f0312070",
   "metadata": {},
   "source": [
    "Veamos cómo utilizar este módulo en la notebook"
   ]
  },
  {
   "cell_type": "code",
   "execution_count": 4,
   "id": "5776455f",
   "metadata": {},
   "outputs": [],
   "source": [
    "# Definimos la simbología que vamos a utilizar\n",
    "\n",
    "f=NamedMorphism(A, B, \"f\")\n",
    "g=NamedMorphism(B, C, \"g\")"
   ]
  },
  {
   "cell_type": "code",
   "execution_count": 5,
   "id": "3d5ac1d7",
   "metadata": {},
   "outputs": [
    {
     "data": {
      "text/plain": [
       "sympy.categories.baseclasses.NamedMorphism"
      ]
     },
     "execution_count": 5,
     "metadata": {},
     "output_type": "execute_result"
    }
   ],
   "source": [
    "type(f)"
   ]
  },
  {
   "cell_type": "code",
   "execution_count": 6,
   "id": "83efb31b",
   "metadata": {},
   "outputs": [
    {
     "data": {
      "text/latex": [
       "$\\displaystyle A$"
      ],
      "text/plain": [
       "Object(\"A\")"
      ]
     },
     "execution_count": 6,
     "metadata": {},
     "output_type": "execute_result"
    }
   ],
   "source": [
    "A"
   ]
  },
  {
   "cell_type": "code",
   "execution_count": 7,
   "id": "666c31f0",
   "metadata": {},
   "outputs": [
    {
     "data": {
      "text/latex": [
       "$\\displaystyle B$"
      ],
      "text/plain": [
       "Object(\"B\")"
      ]
     },
     "execution_count": 7,
     "metadata": {},
     "output_type": "execute_result"
    }
   ],
   "source": [
    "B"
   ]
  },
  {
   "cell_type": "code",
   "execution_count": 8,
   "id": "57f332a3",
   "metadata": {},
   "outputs": [
    {
     "data": {
      "text/latex": [
       "$\\displaystyle f:A\\rightarrow B$"
      ],
      "text/plain": [
       "NamedMorphism(Object(\"A\"), Object(\"B\"), \"f\")"
      ]
     },
     "execution_count": 8,
     "metadata": {},
     "output_type": "execute_result"
    }
   ],
   "source": [
    "f"
   ]
  },
  {
   "cell_type": "code",
   "execution_count": 9,
   "id": "27ae9666",
   "metadata": {},
   "outputs": [
    {
     "data": {
      "text/latex": [
       "$\\displaystyle B$"
      ],
      "text/plain": [
       "Object(\"B\")"
      ]
     },
     "execution_count": 9,
     "metadata": {},
     "output_type": "execute_result"
    }
   ],
   "source": [
    "f.codomain"
   ]
  },
  {
   "cell_type": "code",
   "execution_count": 10,
   "id": "e63db7a8",
   "metadata": {},
   "outputs": [
    {
     "data": {
      "text/latex": [
       "$\\displaystyle A$"
      ],
      "text/plain": [
       "Object(\"A\")"
      ]
     },
     "execution_count": 10,
     "metadata": {},
     "output_type": "execute_result"
    }
   ],
   "source": [
    "f.domain"
   ]
  },
  {
   "cell_type": "markdown",
   "id": "61dd94e2",
   "metadata": {},
   "source": [
    "La propiedad `name` devuelve el nombre del morfismo."
   ]
  },
  {
   "cell_type": "code",
   "execution_count": 11,
   "id": "133aef60",
   "metadata": {},
   "outputs": [
    {
     "data": {
      "text/plain": [
       "'f'"
      ]
     },
     "execution_count": 11,
     "metadata": {},
     "output_type": "execute_result"
    }
   ],
   "source": [
    "f.name"
   ]
  },
  {
   "cell_type": "markdown",
   "id": "b867f59a",
   "metadata": {},
   "source": [
    "## Composición de funciones"
   ]
  },
  {
   "cell_type": "markdown",
   "id": "2a62274e",
   "metadata": {},
   "source": [
    "Se autocompone con el morfismo proporcionado.\n",
    "\n",
    "El orden de los elementos en la composición es el orden habitual, es decir, para construir $g\\circ f$ use `g.compose(f)`"
   ]
  },
  {
   "cell_type": "code",
   "execution_count": 12,
   "id": "99a97869",
   "metadata": {},
   "outputs": [
    {
     "data": {
      "text/latex": [
       "$\\displaystyle g\\circ f:A\\rightarrow C$"
      ],
      "text/plain": [
       "CompositeMorphism((NamedMorphism(Object(\"A\"), Object(\"B\"), \"f\"), NamedMorphism(Object(\"B\"), Object(\"C\"), \"g\")))"
      ]
     },
     "execution_count": 12,
     "metadata": {},
     "output_type": "execute_result"
    }
   ],
   "source": [
    "g.compose(f)"
   ]
  },
  {
   "cell_type": "markdown",
   "id": "d23c776e",
   "metadata": {},
   "source": [
    "### El operador *"
   ]
  },
  {
   "cell_type": "markdown",
   "id": "21e86801",
   "metadata": {},
   "source": [
    "Para componer funciones utilizamos el operador `*` "
   ]
  },
  {
   "cell_type": "code",
   "execution_count": 13,
   "id": "606dd343",
   "metadata": {},
   "outputs": [
    {
     "data": {
      "text/latex": [
       "$\\displaystyle g\\circ f:A\\rightarrow C$"
      ],
      "text/plain": [
       "CompositeMorphism((NamedMorphism(Object(\"A\"), Object(\"B\"), \"f\"), NamedMorphism(Object(\"B\"), Object(\"C\"), \"g\")))"
      ]
     },
     "execution_count": 13,
     "metadata": {},
     "output_type": "execute_result"
    }
   ],
   "source": [
    "g*f"
   ]
  },
  {
   "cell_type": "code",
   "execution_count": 14,
   "id": "eee139e5",
   "metadata": {},
   "outputs": [
    {
     "data": {
      "text/latex": [
       "$\\displaystyle A$"
      ],
      "text/plain": [
       "Object(\"A\")"
      ]
     },
     "execution_count": 14,
     "metadata": {},
     "output_type": "execute_result"
    }
   ],
   "source": [
    "(g*f).domain"
   ]
  },
  {
   "cell_type": "code",
   "execution_count": 15,
   "id": "e2d9bb91",
   "metadata": {},
   "outputs": [
    {
     "data": {
      "text/latex": [
       "$\\displaystyle C$"
      ],
      "text/plain": [
       "Object(\"C\")"
      ]
     },
     "execution_count": 15,
     "metadata": {},
     "output_type": "execute_result"
    }
   ],
   "source": [
    "(g*f).codomain"
   ]
  },
  {
   "cell_type": "code",
   "execution_count": 16,
   "id": "8e6e462f",
   "metadata": {},
   "outputs": [
    {
     "data": {
      "text/latex": [
       "$\\displaystyle \\left( f:A\\rightarrow B, \\  g:B\\rightarrow C\\right)$"
      ],
      "text/plain": [
       "(NamedMorphism(Object(\"A\"), Object(\"B\"), \"f\"), NamedMorphism(Object(\"B\"), Object(\"C\"), \"g\"))"
      ]
     },
     "execution_count": 16,
     "metadata": {},
     "output_type": "execute_result"
    }
   ],
   "source": [
    "(g*f).components"
   ]
  },
  {
   "cell_type": "markdown",
   "id": "669667ec",
   "metadata": {},
   "source": [
    "Si hacemos `f.compose(g)`, nos devuelve un error de comptibilidad con respecto a la composición"
   ]
  },
  {
   "cell_type": "markdown",
   "id": "fcac25ea",
   "metadata": {},
   "source": [
    "### Otra forma de componer funciones\n",
    "\n",
    "La función `CompositeMorphism` representa un morfismo como una composición de otros morfismos."
   ]
  },
  {
   "cell_type": "markdown",
   "id": "d35e37a4",
   "metadata": {},
   "source": [
    "Dos morfismos compuestos son iguales si los morfismos de los que se obtuvieron (componentes) son los mismos y se enumeraron en el mismo orden.\n",
    "\n",
    "Los argumentos del constructor para esta clase deben enumerarse en el orden del diagrama:\n",
    "\n",
    "* para obtener la composición $g\\circ f$ de las instancias de `Morphism` `g` y `f` usamos `CompositeMorphism(f, g)`."
   ]
  },
  {
   "cell_type": "code",
   "execution_count": 17,
   "id": "50003d92",
   "metadata": {},
   "outputs": [],
   "source": [
    "from sympy.categories import CompositeMorphism"
   ]
  },
  {
   "cell_type": "code",
   "execution_count": 18,
   "id": "40b608e7",
   "metadata": {},
   "outputs": [
    {
     "data": {
      "text/latex": [
       "$\\displaystyle g\\circ f:A\\rightarrow C$"
      ],
      "text/plain": [
       "CompositeMorphism((NamedMorphism(Object(\"A\"), Object(\"B\"), \"f\"), NamedMorphism(Object(\"B\"), Object(\"C\"), \"g\")))"
      ]
     },
     "execution_count": 18,
     "metadata": {},
     "output_type": "execute_result"
    }
   ],
   "source": [
    "CompositeMorphism(f,g)"
   ]
  },
  {
   "cell_type": "code",
   "execution_count": 19,
   "id": "88d04f4f",
   "metadata": {},
   "outputs": [
    {
     "data": {
      "text/plain": [
       "True"
      ]
     },
     "execution_count": 19,
     "metadata": {},
     "output_type": "execute_result"
    }
   ],
   "source": [
    "CompositeMorphism(f,g) == g.compose(f) "
   ]
  },
  {
   "cell_type": "code",
   "execution_count": 20,
   "id": "c27ff4ae",
   "metadata": {},
   "outputs": [
    {
     "data": {
      "text/plain": [
       "True"
      ]
     },
     "execution_count": 20,
     "metadata": {},
     "output_type": "execute_result"
    }
   ],
   "source": [
    "CompositeMorphism(f,g) == g*f"
   ]
  },
  {
   "cell_type": "markdown",
   "id": "8f6a034f",
   "metadata": {},
   "source": [
    "Para otorgar un nuevo nombre a la estructura compuesta de estos morfismos, es decir $h=g\\circ f$, utilizamos"
   ]
  },
  {
   "cell_type": "code",
   "execution_count": 21,
   "id": "dd019b27",
   "metadata": {},
   "outputs": [
    {
     "data": {
      "text/latex": [
       "$\\displaystyle h:A\\rightarrow C$"
      ],
      "text/plain": [
       "NamedMorphism(Object(\"A\"), Object(\"C\"), \"h\")"
      ]
     },
     "execution_count": 21,
     "metadata": {},
     "output_type": "execute_result"
    }
   ],
   "source": [
    "(g*f).flatten(\"h\")"
   ]
  },
  {
   "cell_type": "code",
   "execution_count": 22,
   "id": "8feeaf83",
   "metadata": {},
   "outputs": [
    {
     "data": {
      "text/latex": [
       "$\\displaystyle A$"
      ],
      "text/plain": [
       "Object(\"A\")"
      ]
     },
     "execution_count": 22,
     "metadata": {},
     "output_type": "execute_result"
    }
   ],
   "source": [
    "(g*f).flatten(\"h\").domain"
   ]
  },
  {
   "cell_type": "code",
   "execution_count": 23,
   "id": "19a9133a",
   "metadata": {},
   "outputs": [
    {
     "data": {
      "text/latex": [
       "$\\displaystyle C$"
      ],
      "text/plain": [
       "Object(\"C\")"
      ]
     },
     "execution_count": 23,
     "metadata": {},
     "output_type": "execute_result"
    }
   ],
   "source": [
    "(g*f).flatten(\"h\").codomain"
   ]
  },
  {
   "cell_type": "code",
   "execution_count": 24,
   "id": "0b45a764",
   "metadata": {},
   "outputs": [],
   "source": [
    "h_1=(g*f).flatten(\"h\")"
   ]
  },
  {
   "cell_type": "code",
   "execution_count": 25,
   "id": "8789a19f",
   "metadata": {},
   "outputs": [
    {
     "data": {
      "text/latex": [
       "$\\displaystyle h:A\\rightarrow C$"
      ],
      "text/plain": [
       "NamedMorphism(Object(\"A\"), Object(\"C\"), \"h\")"
      ]
     },
     "execution_count": 25,
     "metadata": {},
     "output_type": "execute_result"
    }
   ],
   "source": [
    "h_1"
   ]
  },
  {
   "cell_type": "code",
   "execution_count": 26,
   "id": "b703d895",
   "metadata": {},
   "outputs": [
    {
     "ename": "AttributeError",
     "evalue": "'NamedMorphism' object has no attribute 'components'",
     "output_type": "error",
     "traceback": [
      "\u001b[1;31m---------------------------------------------------------------------------\u001b[0m",
      "\u001b[1;31mAttributeError\u001b[0m                            Traceback (most recent call last)",
      "\u001b[1;32m<ipython-input-26-95a7a639a8a1>\u001b[0m in \u001b[0;36m<module>\u001b[1;34m\u001b[0m\n\u001b[1;32m----> 1\u001b[1;33m \u001b[0mh_1\u001b[0m\u001b[1;33m.\u001b[0m\u001b[0mcomponents\u001b[0m\u001b[1;33m\u001b[0m\u001b[1;33m\u001b[0m\u001b[0m\n\u001b[0m",
      "\u001b[1;31mAttributeError\u001b[0m: 'NamedMorphism' object has no attribute 'components'"
     ]
    }
   ],
   "source": [
    "h_1.components"
   ]
  },
  {
   "cell_type": "markdown",
   "id": "4926fe51",
   "metadata": {},
   "source": [
    "## Errores y Excepciones"
   ]
  },
  {
   "cell_type": "code",
   "execution_count": 27,
   "id": "d4f33ece",
   "metadata": {},
   "outputs": [
    {
     "ename": "ValueError",
     "evalue": "Uncomposable morphisms.",
     "output_type": "error",
     "traceback": [
      "\u001b[1;31m---------------------------------------------------------------------------\u001b[0m",
      "\u001b[1;31mValueError\u001b[0m                                Traceback (most recent call last)",
      "\u001b[1;32m<ipython-input-27-efe8c4522bcf>\u001b[0m in \u001b[0;36m<module>\u001b[1;34m\u001b[0m\n\u001b[1;32m----> 1\u001b[1;33m \u001b[0mf\u001b[0m\u001b[1;33m.\u001b[0m\u001b[0mcompose\u001b[0m\u001b[1;33m(\u001b[0m\u001b[0mg\u001b[0m\u001b[1;33m)\u001b[0m\u001b[1;33m\u001b[0m\u001b[1;33m\u001b[0m\u001b[0m\n\u001b[0m",
      "\u001b[1;32mD:\\Documents\\python\\sphinx\\python para profesores\\venv\\lib\\site-packages\\sympy\\categories\\baseclasses.py\u001b[0m in \u001b[0;36mcompose\u001b[1;34m(self, other)\u001b[0m\n\u001b[0;32m    126\u001b[0m \u001b[1;33m\u001b[0m\u001b[0m\n\u001b[0;32m    127\u001b[0m         \"\"\"\n\u001b[1;32m--> 128\u001b[1;33m         \u001b[1;32mreturn\u001b[0m \u001b[0mCompositeMorphism\u001b[0m\u001b[1;33m(\u001b[0m\u001b[0mother\u001b[0m\u001b[1;33m,\u001b[0m \u001b[0mself\u001b[0m\u001b[1;33m)\u001b[0m\u001b[1;33m\u001b[0m\u001b[1;33m\u001b[0m\u001b[0m\n\u001b[0m\u001b[0;32m    129\u001b[0m \u001b[1;33m\u001b[0m\u001b[0m\n\u001b[0;32m    130\u001b[0m     \u001b[1;32mdef\u001b[0m \u001b[0m__mul__\u001b[0m\u001b[1;33m(\u001b[0m\u001b[0mself\u001b[0m\u001b[1;33m,\u001b[0m \u001b[0mother\u001b[0m\u001b[1;33m)\u001b[0m\u001b[1;33m:\u001b[0m\u001b[1;33m\u001b[0m\u001b[1;33m\u001b[0m\u001b[0m\n",
      "\u001b[1;32mD:\\Documents\\python\\sphinx\\python para profesores\\venv\\lib\\site-packages\\sympy\\categories\\baseclasses.py\u001b[0m in \u001b[0;36m__new__\u001b[1;34m(cls, *components)\u001b[0m\n\u001b[0;32m    307\u001b[0m \u001b[1;33m\u001b[0m\u001b[0m\n\u001b[0;32m    308\u001b[0m             \u001b[1;32mif\u001b[0m \u001b[0mcurrent\u001b[0m\u001b[1;33m.\u001b[0m\u001b[0mcodomain\u001b[0m \u001b[1;33m!=\u001b[0m \u001b[0mfollowing\u001b[0m\u001b[1;33m.\u001b[0m\u001b[0mdomain\u001b[0m\u001b[1;33m:\u001b[0m\u001b[1;33m\u001b[0m\u001b[1;33m\u001b[0m\u001b[0m\n\u001b[1;32m--> 309\u001b[1;33m                 \u001b[1;32mraise\u001b[0m \u001b[0mValueError\u001b[0m\u001b[1;33m(\u001b[0m\u001b[1;34m\"Uncomposable morphisms.\"\u001b[0m\u001b[1;33m)\u001b[0m\u001b[1;33m\u001b[0m\u001b[1;33m\u001b[0m\u001b[0m\n\u001b[0m\u001b[0;32m    310\u001b[0m \u001b[1;33m\u001b[0m\u001b[0m\n\u001b[0;32m    311\u001b[0m             normalised_components = CompositeMorphism._add_morphism(\n",
      "\u001b[1;31mValueError\u001b[0m: Uncomposable morphisms."
     ]
    }
   ],
   "source": [
    "f.compose(g)"
   ]
  },
  {
   "cell_type": "code",
   "execution_count": 28,
   "id": "566c0e86",
   "metadata": {},
   "outputs": [
    {
     "ename": "AttributeError",
     "evalue": "'CompositeMorphism' object has no attribute 'name'",
     "output_type": "error",
     "traceback": [
      "\u001b[1;31m---------------------------------------------------------------------------\u001b[0m",
      "\u001b[1;31mAttributeError\u001b[0m                            Traceback (most recent call last)",
      "\u001b[1;32m<ipython-input-28-eda470189674>\u001b[0m in \u001b[0;36m<module>\u001b[1;34m\u001b[0m\n\u001b[1;32m----> 1\u001b[1;33m \u001b[1;33m(\u001b[0m\u001b[0mg\u001b[0m\u001b[1;33m*\u001b[0m\u001b[0mf\u001b[0m\u001b[1;33m)\u001b[0m\u001b[1;33m.\u001b[0m\u001b[0mname\u001b[0m\u001b[1;33m\u001b[0m\u001b[1;33m\u001b[0m\u001b[0m\n\u001b[0m",
      "\u001b[1;31mAttributeError\u001b[0m: 'CompositeMorphism' object has no attribute 'name'"
     ]
    }
   ],
   "source": [
    "(g*f).name"
   ]
  },
  {
   "cell_type": "markdown",
   "id": "db0b9a91",
   "metadata": {},
   "source": [
    "## Morfismo Identidad "
   ]
  },
  {
   "cell_type": "markdown",
   "id": "fe83afb5",
   "metadata": {},
   "source": [
    "Para definir el morfismo identidad debemos `IdentityMorphism(domain)`, que representa un morfismo idendidad de $\\texttt{domain}\\to \\texttt{domain}$. Por ejemplo:"
   ]
  },
  {
   "cell_type": "code",
   "execution_count": 29,
   "id": "3da4e7cc",
   "metadata": {},
   "outputs": [],
   "source": [
    "from sympy.categories import IdentityMorphism\n",
    "\n",
    "id_A=IdentityMorphism(A)"
   ]
  },
  {
   "cell_type": "code",
   "execution_count": 30,
   "id": "9889e48f",
   "metadata": {},
   "outputs": [
    {
     "data": {
      "text/latex": [
       "$\\displaystyle id:A\\rightarrow A$"
      ],
      "text/plain": [
       "IdentityMorphism(Object(\"A\"))"
      ]
     },
     "execution_count": 30,
     "metadata": {},
     "output_type": "execute_result"
    }
   ],
   "source": [
    "id_A"
   ]
  },
  {
   "cell_type": "code",
   "execution_count": 31,
   "id": "44c5d518",
   "metadata": {},
   "outputs": [],
   "source": [
    "id_B=IdentityMorphism(B)"
   ]
  },
  {
   "cell_type": "code",
   "execution_count": 32,
   "id": "6783be4a",
   "metadata": {},
   "outputs": [
    {
     "data": {
      "text/latex": [
       "$\\displaystyle id:B\\rightarrow B$"
      ],
      "text/plain": [
       "IdentityMorphism(Object(\"B\"))"
      ]
     },
     "execution_count": 32,
     "metadata": {},
     "output_type": "execute_result"
    }
   ],
   "source": [
    "id_B"
   ]
  },
  {
   "cell_type": "code",
   "execution_count": 33,
   "id": "09c699e6",
   "metadata": {},
   "outputs": [
    {
     "data": {
      "text/latex": [
       "$\\displaystyle f:A\\rightarrow B$"
      ],
      "text/plain": [
       "NamedMorphism(Object(\"A\"), Object(\"B\"), \"f\")"
      ]
     },
     "execution_count": 33,
     "metadata": {},
     "output_type": "execute_result"
    }
   ],
   "source": [
    "f*id_A"
   ]
  },
  {
   "cell_type": "code",
   "execution_count": 34,
   "id": "e17b4ce0",
   "metadata": {},
   "outputs": [
    {
     "data": {
      "text/latex": [
       "$\\displaystyle f:A\\rightarrow B$"
      ],
      "text/plain": [
       "NamedMorphism(Object(\"A\"), Object(\"B\"), \"f\")"
      ]
     },
     "execution_count": 34,
     "metadata": {},
     "output_type": "execute_result"
    }
   ],
   "source": [
    "id_B*f"
   ]
  },
  {
   "cell_type": "code",
   "execution_count": 35,
   "id": "f36cc58c",
   "metadata": {},
   "outputs": [
    {
     "data": {
      "text/plain": [
       "True"
      ]
     },
     "execution_count": 35,
     "metadata": {},
     "output_type": "execute_result"
    }
   ],
   "source": [
    "f*id_A == id_B*f"
   ]
  },
  {
   "cell_type": "markdown",
   "id": "e10dc964",
   "metadata": {},
   "source": [
    "## Categorías"
   ]
  },
  {
   "cell_type": "code",
   "execution_count": 36,
   "id": "849a910d",
   "metadata": {},
   "outputs": [],
   "source": [
    "from sympy.categories import Category, Diagram "
   ]
  },
  {
   "cell_type": "code",
   "execution_count": 37,
   "id": "9c26e96c",
   "metadata": {},
   "outputs": [],
   "source": [
    "list = [f, g]"
   ]
  },
  {
   "cell_type": "code",
   "execution_count": 38,
   "id": "00c9b4f3",
   "metadata": {},
   "outputs": [],
   "source": [
    "d=Diagram(list)"
   ]
  },
  {
   "cell_type": "code",
   "execution_count": 39,
   "id": "f8f6f4db",
   "metadata": {},
   "outputs": [
    {
     "data": {
      "text/latex": [
       "$\\displaystyle \\left\\{ g\\circ f:A\\rightarrow C : \\emptyset, \\  id:A\\rightarrow A : \\emptyset, \\  id:B\\rightarrow B : \\emptyset, \\  id:C\\rightarrow C : \\emptyset, \\  f:A\\rightarrow B : \\emptyset, \\  g:B\\rightarrow C : \\emptyset\\right\\}$"
      ],
      "text/plain": [
       "Diagram({CompositeMorphism((NamedMorphism(Object(\"A\"), Object(\"B\"), \"f\"), NamedMorphism(Object(\"B\"), Object(\"C\"), \"g\"))): EmptySet, IdentityMorphism(Object(\"A\")): EmptySet, IdentityMorphism(Object(\"B\")): EmptySet, IdentityMorphism(Object(\"C\")): EmptySet, NamedMorphism(Object(\"A\"), Object(\"B\"), \"f\"): EmptySet, NamedMorphism(Object(\"B\"), Object(\"C\"), \"g\"): EmptySet}, {}, FiniteSet(Object(\"A\"), Object(\"B\"), Object(\"C\")))"
      ]
     },
     "execution_count": 39,
     "metadata": {},
     "output_type": "execute_result"
    }
   ],
   "source": [
    "d"
   ]
  },
  {
   "cell_type": "code",
   "execution_count": 40,
   "id": "9b7d9d47",
   "metadata": {},
   "outputs": [],
   "source": [
    "K = Category(\"K\", commutative_diagrams=[d])"
   ]
  },
  {
   "cell_type": "code",
   "execution_count": 41,
   "id": "11a5f497",
   "metadata": {},
   "outputs": [
    {
     "data": {
      "text/latex": [
       "$\\displaystyle \\mathbf{K}$"
      ],
      "text/plain": [
       "Category(\"K\")"
      ]
     },
     "execution_count": 41,
     "metadata": {},
     "output_type": "execute_result"
    }
   ],
   "source": [
    "K"
   ]
  },
  {
   "cell_type": "code",
   "execution_count": 42,
   "id": "0c377c6b",
   "metadata": {},
   "outputs": [
    {
     "data": {
      "text/latex": [
       "$\\displaystyle \\left\\{\\left\\{ g\\circ f:A\\rightarrow C : \\emptyset, \\  id:A\\rightarrow A : \\emptyset, \\  id:B\\rightarrow B : \\emptyset, \\  id:C\\rightarrow C : \\emptyset, \\  f:A\\rightarrow B : \\emptyset, \\  g:B\\rightarrow C : \\emptyset\\right\\}\\right\\}$"
      ],
      "text/plain": [
       "FiniteSet(Diagram({CompositeMorphism((NamedMorphism(Object(\"A\"), Object(\"B\"), \"f\"), NamedMorphism(Object(\"B\"), Object(\"C\"), \"g\"))): EmptySet, IdentityMorphism(Object(\"A\")): EmptySet, IdentityMorphism(Object(\"B\")): EmptySet, IdentityMorphism(Object(\"C\")): EmptySet, NamedMorphism(Object(\"A\"), Object(\"B\"), \"f\"): EmptySet, NamedMorphism(Object(\"B\"), Object(\"C\"), \"g\"): EmptySet}, {}, FiniteSet(Object(\"A\"), Object(\"B\"), Object(\"C\"))))"
      ]
     },
     "execution_count": 42,
     "metadata": {},
     "output_type": "execute_result"
    }
   ],
   "source": [
    "K.commutative_diagrams"
   ]
  },
  {
   "cell_type": "code",
   "execution_count": 43,
   "id": "5afdbede",
   "metadata": {},
   "outputs": [],
   "source": [
    "from sympy import FiniteSet"
   ]
  },
  {
   "cell_type": "code",
   "execution_count": 44,
   "id": "c195521d",
   "metadata": {},
   "outputs": [
    {
     "data": {
      "text/latex": [
       "$\\displaystyle \\left\\{\\left\\{ g\\circ f:A\\rightarrow C : \\emptyset, \\  id:A\\rightarrow A : \\emptyset, \\  id:B\\rightarrow B : \\emptyset, \\  id:C\\rightarrow C : \\emptyset, \\  f:A\\rightarrow B : \\emptyset, \\  g:B\\rightarrow C : \\emptyset\\right\\}\\right\\}$"
      ],
      "text/plain": [
       "FiniteSet(Diagram({CompositeMorphism((NamedMorphism(Object(\"A\"), Object(\"B\"), \"f\"), NamedMorphism(Object(\"B\"), Object(\"C\"), \"g\"))): EmptySet, IdentityMorphism(Object(\"A\")): EmptySet, IdentityMorphism(Object(\"B\")): EmptySet, IdentityMorphism(Object(\"C\")): EmptySet, NamedMorphism(Object(\"A\"), Object(\"B\"), \"f\"): EmptySet, NamedMorphism(Object(\"B\"), Object(\"C\"), \"g\"): EmptySet}, {}, FiniteSet(Object(\"A\"), Object(\"B\"), Object(\"C\"))))"
      ]
     },
     "execution_count": 44,
     "metadata": {},
     "output_type": "execute_result"
    }
   ],
   "source": [
    "FiniteSet(d)"
   ]
  },
  {
   "cell_type": "code",
   "execution_count": 45,
   "id": "c3c6b4bc",
   "metadata": {},
   "outputs": [
    {
     "data": {
      "text/plain": [
       "True"
      ]
     },
     "execution_count": 45,
     "metadata": {},
     "output_type": "execute_result"
    }
   ],
   "source": [
    "FiniteSet(d) == K.commutative_diagrams"
   ]
  },
  {
   "cell_type": "code",
   "execution_count": 46,
   "id": "5b8ba05a",
   "metadata": {},
   "outputs": [
    {
     "data": {
      "text/plain": [
       "'K'"
      ]
     },
     "execution_count": 46,
     "metadata": {},
     "output_type": "execute_result"
    }
   ],
   "source": [
    "K.name"
   ]
  },
  {
   "cell_type": "code",
   "execution_count": 47,
   "id": "fb8e509a",
   "metadata": {},
   "outputs": [
    {
     "data": {
      "text/latex": [
       "$\\displaystyle Class\\left(\\emptyset\\right)$"
      ],
      "text/plain": [
       "Class(EmptySet)"
      ]
     },
     "execution_count": 47,
     "metadata": {},
     "output_type": "execute_result"
    }
   ],
   "source": [
    "K.objects"
   ]
  },
  {
   "cell_type": "code",
   "execution_count": null,
   "id": "41d72e6d",
   "metadata": {
    "collapsed": true
   },
   "outputs": [],
   "source": []
  },
  {
   "cell_type": "code",
   "execution_count": null,
   "id": "e7f250c5",
   "metadata": {},
   "outputs": [],
   "source": []
  }
 ],
 "metadata": {
  "kernelspec": {
   "display_name": "PPP virtual venv",
   "language": "python",
   "name": "venv"
  },
  "language_info": {
   "codemirror_mode": {
    "name": "ipython",
    "version": 3
   },
   "file_extension": ".py",
   "mimetype": "text/x-python",
   "name": "python",
   "nbconvert_exporter": "python",
   "pygments_lexer": "ipython3",
   "version": "3.8.5"
  }
 },
 "nbformat": 4,
 "nbformat_minor": 5
}
